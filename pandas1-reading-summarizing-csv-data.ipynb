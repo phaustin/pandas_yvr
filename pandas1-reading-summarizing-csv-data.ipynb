{
 "cells": [
  {
   "cell_type": "markdown",
   "id": "6377c7b3",
   "metadata": {
    "lines_to_next_cell": 0
   },
   "source": [
    "# Reading & Summarizing CSV Data\n",
    "\n",
    "Credit: the notebooks in this folder are lightly modified versions of work by Jennifer Walker presented\n",
    "at the EOAS python workshop in October, 2018: https://github.com/jenfly/eoas-python"
   ]
  },
  {
   "cell_type": "code",
   "execution_count": 1,
   "id": "0e383cdc",
   "metadata": {},
   "outputs": [],
   "source": [
    "from pathlib import Path\n",
    "import pandas\n",
    "\n",
    "new_dirs = ['data/raw','data/processed']\n",
    "for the_dir in new_dirs:\n",
    "    curr_dir = Path() / the_dir\n",
    "    curr_dir.mkdir(parents=True,exist_ok=True)"
   ]
  },
  {
   "cell_type": "markdown",
   "id": "0d684e43",
   "metadata": {
    "lines_to_next_cell": 0
   },
   "source": [
    "## Learning objectives\n",
    "\n",
    "* Learn how to read, process and write data in csv/xlsx/tabular format using pandas\n",
    "\n",
    "* In parts 2 and parts 3:\n",
    "\n",
    "  * Learn how to download tabular data from websites with a \"restful api\":\n",
    "    - https://stackoverflow.com/questions/671118/what-exactly-is-restful-programming\n",
    "\n",
    "  * Learn how to clean data by filtering missing values, renaming columns, and writing out\n",
    "    processed files for further work"
   ]
  },
  {
   "cell_type": "markdown",
   "id": "012358fe",
   "metadata": {},
   "source": [
    "## Folder setup\n",
    "\n",
    "As our project grows more complicated, it's good to have a central\n",
    "module that keeps track of important files and sets your scripts\n",
    "up so that they can import functions and classes from you modules.\n",
    "If you were planning to distribute your project using conda, then\n",
    "you would need to write an installation script, which is a fair\n",
    "amount of work.   At this stage, it's easier and more flexible to\n",
    "store that information in a file that travels along with your notebook.\n",
    "We set the \"context\" for this notebook by importing:\n",
    "[context_pandas1.py](context.py)"
   ]
  },
  {
   "cell_type": "code",
   "execution_count": 2,
   "id": "797b471a",
   "metadata": {
    "lines_to_next_cell": 0
   },
   "outputs": [
    {
     "name": "stdout",
     "output_type": "stream",
     "text": [
      "in context.py, setting root_dir to /Users/phil/repos\n",
      "******************************\n",
      "context imported. Front of path:\n",
      "/Users/phil/repos\n",
      "/Users/phil/repos/pandas_yvr\n",
      "******************************\n",
      "\n"
     ]
    }
   ],
   "source": [
    "import context"
   ]
  },
  {
   "cell_type": "markdown",
   "id": "6ada21ac",
   "metadata": {},
   "source": [
    "### Subfolder creation\n",
    "\n",
    "Subsequent notebooks are going to need a place to put raw and processed data.\n",
    "We create those folders in the cell below"
   ]
  },
  {
   "cell_type": "code",
   "execution_count": 3,
   "id": "9d23acd9",
   "metadata": {
    "lines_to_next_cell": 0,
    "scrolled": true
   },
   "outputs": [],
   "source": [
    "processed_dir =  Path(\"data/processed\")\n",
    "raw_dir = Path(\"data/raw\")\n",
    "#print(list(raw_dir.glob(\"*\")))"
   ]
  },
  {
   "cell_type": "markdown",
   "id": "c5b14322",
   "metadata": {},
   "source": [
    "## Pandas dataframes vs. numpy arrays\n",
    "\n",
    "* Dataframes are **column oriented**, arrays are **row oriented**\n",
    "* Array items are all of the same dtype (i.e. numpy.float32), dataframe columns can\n",
    "  have different types (e.g.strings vs. integers)\n",
    "* Dataframe columns can be indexed by name (e.g. \"Total area of basin\") or by integer index\n",
    "* Dataframe rows can be indexed by number of by a special index (e.g. postal code)\n",
    "* Dataframe objects have dozens of methods to summarize and manipulate the data they hold, making\n",
    "  them similar in features to a lightweight relational database."
   ]
  },
  {
   "cell_type": "markdown",
   "id": "d0d4b108",
   "metadata": {},
   "source": [
    "## Intro to Pandas\n",
    "\n",
    "- `pandas` = [Python Data Analysis Library](https://pandas.pydata.org/)\n",
    "- Best book: [Python for data analysis](https://github.com/wesm/pydata-book) by Wes McKinney\n",
    "- Jennifer Walker's [Pandas cheatsheet](pandas-cheatsheet.ipynb)\n",
    "- Library for working with **labelled** tabular data (1-D and 2-D)\n",
    "  - Data formats include: comma separated values (CSV) and other text files, Excel spreadsheets, HDF5, [and others](https://pandas.pydata.org/pandas-docs/stable/io.html)\n",
    "- With `pandas` you can do pretty much everything you would in a spreadsheet, plus a whole lot more!"
   ]
  },
  {
   "cell_type": "markdown",
   "id": "3924f0cc",
   "metadata": {},
   "source": [
    "> If you're working with higher dimensional data and/or netCDF files, check out the excellent [xarray library](http://xarray.pydata.org/en/stable/), which brings the labelled data power of `pandas` to N-dimensional arrays"
   ]
  },
  {
   "cell_type": "markdown",
   "id": "029754ad",
   "metadata": {},
   "source": [
    "## Why Pandas?\n",
    "- Working with large data files and complex calculations\n",
    "- Dealing with messy and missing data\n",
    "- Merging data from multiple files\n",
    "- Timeseries analysis\n",
    "- Automate repetitive tasks\n",
    "- Combine with other Python libraries to create beautiful and fully customized visualizations"
   ]
  },
  {
   "cell_type": "markdown",
   "id": "2faa6478",
   "metadata": {},
   "source": [
    "## Reading a CSV file\n",
    "\n",
    "We'll be working with the file `weather_YVR.csv` in the `data` sub-folder.\n",
    "- Environment Canada daily weather measurements at Vancouver Airport from 1938-2017."
   ]
  },
  {
   "cell_type": "markdown",
   "id": "172937b7",
   "metadata": {},
   "source": [
    "Now let's read the CSV file into our notebook with the function `read_csv` from the `pandas` library.\n",
    "- To access functions in the library, we use dot notation again: `pandas.read_csv()`\n",
    "- Our input to the read_csv function is the file path as a string: `'data/weather_YVR.csv'`\n",
    "\n",
    "We'll store the data as a dataframe called `weather`."
   ]
  },
  {
   "cell_type": "markdown",
   "id": "5ea15d12",
   "metadata": {},
   "source": [
    "### The pathlib module\n",
    "\n",
    "The cell below constructs a [Path object](https://realpython.com/python-pathlib/).  Note the\n",
    "direction of the \"/\" separator.  This would not be the way that we would\n",
    "specify a file on windows (that would be 'data\\weather_YVR.csv' -- Path objects\n",
    "hide this complexity by understanding whether we are working on windows, linux or macos and\n",
    "just doing the right thing."
   ]
  },
  {
   "cell_type": "code",
   "execution_count": 4,
   "id": "93c6db51",
   "metadata": {},
   "outputs": [],
   "source": [
    "weather_file = Path(\"data/weather_YVR.csv\")  #subfolder"
   ]
  },
  {
   "cell_type": "code",
   "execution_count": 5,
   "id": "f70b2044",
   "metadata": {},
   "outputs": [],
   "source": [
    "weather = pandas.read_csv(weather_file)\n",
    "#dir(weather)"
   ]
  },
  {
   "cell_type": "markdown",
   "id": "a055d03b",
   "metadata": {
    "slideshow": {
     "slide_type": "skip"
    }
   },
   "source": [
    "> Pro Tips!\n",
    "- Try typing `pandas.re` and then press Tab and select `read_csv` from the auto-complete options\n",
    "- Auto-complete even works for file paths inside a string!"
   ]
  },
  {
   "cell_type": "code",
   "execution_count": 6,
   "id": "1e259f5d",
   "metadata": {},
   "outputs": [
    {
     "data": {
      "text/html": [
       "<div>\n",
       "<style scoped>\n",
       "    .dataframe tbody tr th:only-of-type {\n",
       "        vertical-align: middle;\n",
       "    }\n",
       "\n",
       "    .dataframe tbody tr th {\n",
       "        vertical-align: top;\n",
       "    }\n",
       "\n",
       "    .dataframe thead th {\n",
       "        text-align: right;\n",
       "    }\n",
       "</style>\n",
       "<table border=\"1\" class=\"dataframe\">\n",
       "  <thead>\n",
       "    <tr style=\"text-align: right;\">\n",
       "      <th></th>\n",
       "      <th>Date</th>\n",
       "      <th>Year</th>\n",
       "      <th>Month</th>\n",
       "      <th>Day</th>\n",
       "      <th>T_mean (C)</th>\n",
       "      <th>T_high (C)</th>\n",
       "      <th>T_low (C)</th>\n",
       "      <th>Rain (mm)</th>\n",
       "      <th>Snow (cm)</th>\n",
       "      <th>Total Precip (mm)</th>\n",
       "    </tr>\n",
       "  </thead>\n",
       "  <tbody>\n",
       "    <tr>\n",
       "      <th>0</th>\n",
       "      <td>1938-01-01</td>\n",
       "      <td>1938</td>\n",
       "      <td>1</td>\n",
       "      <td>1</td>\n",
       "      <td>4.4</td>\n",
       "      <td>9.4</td>\n",
       "      <td>-0.6</td>\n",
       "      <td>NaN</td>\n",
       "      <td>NaN</td>\n",
       "      <td>0.3</td>\n",
       "    </tr>\n",
       "    <tr>\n",
       "      <th>1</th>\n",
       "      <td>1938-01-02</td>\n",
       "      <td>1938</td>\n",
       "      <td>1</td>\n",
       "      <td>2</td>\n",
       "      <td>4.5</td>\n",
       "      <td>7.2</td>\n",
       "      <td>1.7</td>\n",
       "      <td>NaN</td>\n",
       "      <td>NaN</td>\n",
       "      <td>0.5</td>\n",
       "    </tr>\n",
       "    <tr>\n",
       "      <th>2</th>\n",
       "      <td>1938-01-03</td>\n",
       "      <td>1938</td>\n",
       "      <td>1</td>\n",
       "      <td>3</td>\n",
       "      <td>1.7</td>\n",
       "      <td>7.2</td>\n",
       "      <td>-3.9</td>\n",
       "      <td>0.0</td>\n",
       "      <td>0.0</td>\n",
       "      <td>0.0</td>\n",
       "    </tr>\n",
       "    <tr>\n",
       "      <th>3</th>\n",
       "      <td>1938-01-04</td>\n",
       "      <td>1938</td>\n",
       "      <td>1</td>\n",
       "      <td>4</td>\n",
       "      <td>2.2</td>\n",
       "      <td>7.2</td>\n",
       "      <td>-2.8</td>\n",
       "      <td>0.0</td>\n",
       "      <td>0.0</td>\n",
       "      <td>0.0</td>\n",
       "    </tr>\n",
       "    <tr>\n",
       "      <th>4</th>\n",
       "      <td>1938-01-05</td>\n",
       "      <td>1938</td>\n",
       "      <td>1</td>\n",
       "      <td>5</td>\n",
       "      <td>2.2</td>\n",
       "      <td>7.2</td>\n",
       "      <td>-2.8</td>\n",
       "      <td>0.0</td>\n",
       "      <td>0.0</td>\n",
       "      <td>0.0</td>\n",
       "    </tr>\n",
       "  </tbody>\n",
       "</table>\n",
       "</div>"
      ],
      "text/plain": [
       "         Date  Year  Month  Day  T_mean (C)  T_high (C)  T_low (C)  Rain (mm)  \\\n",
       "0  1938-01-01  1938      1    1         4.4         9.4       -0.6        NaN   \n",
       "1  1938-01-02  1938      1    2         4.5         7.2        1.7        NaN   \n",
       "2  1938-01-03  1938      1    3         1.7         7.2       -3.9        0.0   \n",
       "3  1938-01-04  1938      1    4         2.2         7.2       -2.8        0.0   \n",
       "4  1938-01-05  1938      1    5         2.2         7.2       -2.8        0.0   \n",
       "\n",
       "   Snow (cm)  Total Precip (mm)  \n",
       "0        NaN                0.3  \n",
       "1        NaN                0.5  \n",
       "2        0.0                0.0  \n",
       "3        0.0                0.0  \n",
       "4        0.0                0.0  "
      ]
     },
     "execution_count": 6,
     "metadata": {},
     "output_type": "execute_result"
    }
   ],
   "source": [
    "weather.head()"
   ]
  },
  {
   "cell_type": "markdown",
   "id": "4619e7a4",
   "metadata": {},
   "source": [
    "- Only the first 30 and last 30 rows are displayed (but the data is all there in our `weather` variable)\n",
    "- You may notice some weird `NaN` values&mdash;these represent missing data (`NaN` = \"not a number\")"
   ]
  },
  {
   "cell_type": "markdown",
   "id": "26f240c9",
   "metadata": {},
   "source": [
    "What type of object is `weather`?"
   ]
  },
  {
   "cell_type": "code",
   "execution_count": 7,
   "id": "323869ec",
   "metadata": {},
   "outputs": [
    {
     "data": {
      "text/plain": [
       "pandas.core.frame.DataFrame"
      ]
     },
     "execution_count": 7,
     "metadata": {},
     "output_type": "execute_result"
    }
   ],
   "source": [
    "type(weather)"
   ]
  },
  {
   "cell_type": "markdown",
   "id": "3c2d6204",
   "metadata": {},
   "source": [
    "- `weather` is a **DataFrame**, a data structure from the `pandas` library\n",
    "  - A DataFrame is a 2-dimensional array (organized into rows and columns, like a table in a spreadsheet)"
   ]
  },
  {
   "cell_type": "markdown",
   "id": "18298fb4",
   "metadata": {},
   "source": [
    "- When we display `weather`, the integer numbers in bold on the left are the DataFrame's **index**\n",
    "  - In this case, the index is simply a range of integers corresponding with the row numbers"
   ]
  },
  {
   "cell_type": "code",
   "execution_count": 8,
   "id": "d0098c72",
   "metadata": {},
   "outputs": [
    {
     "data": {
      "text/html": [
       "<div>\n",
       "<style scoped>\n",
       "    .dataframe tbody tr th:only-of-type {\n",
       "        vertical-align: middle;\n",
       "    }\n",
       "\n",
       "    .dataframe tbody tr th {\n",
       "        vertical-align: top;\n",
       "    }\n",
       "\n",
       "    .dataframe thead th {\n",
       "        text-align: right;\n",
       "    }\n",
       "</style>\n",
       "<table border=\"1\" class=\"dataframe\">\n",
       "  <thead>\n",
       "    <tr style=\"text-align: right;\">\n",
       "      <th></th>\n",
       "      <th>Date</th>\n",
       "      <th>Year</th>\n",
       "      <th>Month</th>\n",
       "      <th>Day</th>\n",
       "      <th>T_mean (C)</th>\n",
       "      <th>T_high (C)</th>\n",
       "      <th>T_low (C)</th>\n",
       "      <th>Rain (mm)</th>\n",
       "      <th>Snow (cm)</th>\n",
       "      <th>Total Precip (mm)</th>\n",
       "    </tr>\n",
       "  </thead>\n",
       "  <tbody>\n",
       "    <tr>\n",
       "      <th>0</th>\n",
       "      <td>1938-01-01</td>\n",
       "      <td>1938</td>\n",
       "      <td>1</td>\n",
       "      <td>1</td>\n",
       "      <td>4.4</td>\n",
       "      <td>9.4</td>\n",
       "      <td>-0.6</td>\n",
       "      <td>NaN</td>\n",
       "      <td>NaN</td>\n",
       "      <td>0.3</td>\n",
       "    </tr>\n",
       "    <tr>\n",
       "      <th>1</th>\n",
       "      <td>1938-01-02</td>\n",
       "      <td>1938</td>\n",
       "      <td>1</td>\n",
       "      <td>2</td>\n",
       "      <td>4.5</td>\n",
       "      <td>7.2</td>\n",
       "      <td>1.7</td>\n",
       "      <td>NaN</td>\n",
       "      <td>NaN</td>\n",
       "      <td>0.5</td>\n",
       "    </tr>\n",
       "    <tr>\n",
       "      <th>2</th>\n",
       "      <td>1938-01-03</td>\n",
       "      <td>1938</td>\n",
       "      <td>1</td>\n",
       "      <td>3</td>\n",
       "      <td>1.7</td>\n",
       "      <td>7.2</td>\n",
       "      <td>-3.9</td>\n",
       "      <td>0.0</td>\n",
       "      <td>0.0</td>\n",
       "      <td>0.0</td>\n",
       "    </tr>\n",
       "    <tr>\n",
       "      <th>3</th>\n",
       "      <td>1938-01-04</td>\n",
       "      <td>1938</td>\n",
       "      <td>1</td>\n",
       "      <td>4</td>\n",
       "      <td>2.2</td>\n",
       "      <td>7.2</td>\n",
       "      <td>-2.8</td>\n",
       "      <td>0.0</td>\n",
       "      <td>0.0</td>\n",
       "      <td>0.0</td>\n",
       "    </tr>\n",
       "    <tr>\n",
       "      <th>4</th>\n",
       "      <td>1938-01-05</td>\n",
       "      <td>1938</td>\n",
       "      <td>1</td>\n",
       "      <td>5</td>\n",
       "      <td>2.2</td>\n",
       "      <td>7.2</td>\n",
       "      <td>-2.8</td>\n",
       "      <td>0.0</td>\n",
       "      <td>0.0</td>\n",
       "      <td>0.0</td>\n",
       "    </tr>\n",
       "    <tr>\n",
       "      <th>...</th>\n",
       "      <td>...</td>\n",
       "      <td>...</td>\n",
       "      <td>...</td>\n",
       "      <td>...</td>\n",
       "      <td>...</td>\n",
       "      <td>...</td>\n",
       "      <td>...</td>\n",
       "      <td>...</td>\n",
       "      <td>...</td>\n",
       "      <td>...</td>\n",
       "    </tr>\n",
       "    <tr>\n",
       "      <th>29185</th>\n",
       "      <td>2017-12-27</td>\n",
       "      <td>2017</td>\n",
       "      <td>12</td>\n",
       "      <td>27</td>\n",
       "      <td>0.0</td>\n",
       "      <td>1.9</td>\n",
       "      <td>-1.9</td>\n",
       "      <td>3.0</td>\n",
       "      <td>0.2</td>\n",
       "      <td>3.2</td>\n",
       "    </tr>\n",
       "    <tr>\n",
       "      <th>29186</th>\n",
       "      <td>2017-12-28</td>\n",
       "      <td>2017</td>\n",
       "      <td>12</td>\n",
       "      <td>28</td>\n",
       "      <td>3.4</td>\n",
       "      <td>5.7</td>\n",
       "      <td>1.1</td>\n",
       "      <td>20.8</td>\n",
       "      <td>0.0</td>\n",
       "      <td>20.8</td>\n",
       "    </tr>\n",
       "    <tr>\n",
       "      <th>29187</th>\n",
       "      <td>2017-12-29</td>\n",
       "      <td>2017</td>\n",
       "      <td>12</td>\n",
       "      <td>29</td>\n",
       "      <td>2.8</td>\n",
       "      <td>4.7</td>\n",
       "      <td>0.9</td>\n",
       "      <td>27.6</td>\n",
       "      <td>0.0</td>\n",
       "      <td>27.6</td>\n",
       "    </tr>\n",
       "    <tr>\n",
       "      <th>29188</th>\n",
       "      <td>2017-12-30</td>\n",
       "      <td>2017</td>\n",
       "      <td>12</td>\n",
       "      <td>30</td>\n",
       "      <td>1.3</td>\n",
       "      <td>4.3</td>\n",
       "      <td>-1.8</td>\n",
       "      <td>2.2</td>\n",
       "      <td>0.0</td>\n",
       "      <td>2.2</td>\n",
       "    </tr>\n",
       "    <tr>\n",
       "      <th>29189</th>\n",
       "      <td>2017-12-31</td>\n",
       "      <td>2017</td>\n",
       "      <td>12</td>\n",
       "      <td>31</td>\n",
       "      <td>-0.1</td>\n",
       "      <td>3.8</td>\n",
       "      <td>-3.9</td>\n",
       "      <td>0.0</td>\n",
       "      <td>0.0</td>\n",
       "      <td>0.0</td>\n",
       "    </tr>\n",
       "  </tbody>\n",
       "</table>\n",
       "<p>29190 rows × 10 columns</p>\n",
       "</div>"
      ],
      "text/plain": [
       "             Date  Year  Month  Day  T_mean (C)  T_high (C)  T_low (C)  \\\n",
       "0      1938-01-01  1938      1    1         4.4         9.4       -0.6   \n",
       "1      1938-01-02  1938      1    2         4.5         7.2        1.7   \n",
       "2      1938-01-03  1938      1    3         1.7         7.2       -3.9   \n",
       "3      1938-01-04  1938      1    4         2.2         7.2       -2.8   \n",
       "4      1938-01-05  1938      1    5         2.2         7.2       -2.8   \n",
       "...           ...   ...    ...  ...         ...         ...        ...   \n",
       "29185  2017-12-27  2017     12   27         0.0         1.9       -1.9   \n",
       "29186  2017-12-28  2017     12   28         3.4         5.7        1.1   \n",
       "29187  2017-12-29  2017     12   29         2.8         4.7        0.9   \n",
       "29188  2017-12-30  2017     12   30         1.3         4.3       -1.8   \n",
       "29189  2017-12-31  2017     12   31        -0.1         3.8       -3.9   \n",
       "\n",
       "       Rain (mm)  Snow (cm)  Total Precip (mm)  \n",
       "0            NaN        NaN                0.3  \n",
       "1            NaN        NaN                0.5  \n",
       "2            0.0        0.0                0.0  \n",
       "3            0.0        0.0                0.0  \n",
       "4            0.0        0.0                0.0  \n",
       "...          ...        ...                ...  \n",
       "29185        3.0        0.2                3.2  \n",
       "29186       20.8        0.0               20.8  \n",
       "29187       27.6        0.0               27.6  \n",
       "29188        2.2        0.0                2.2  \n",
       "29189        0.0        0.0                0.0  \n",
       "\n",
       "[29190 rows x 10 columns]"
      ]
     },
     "execution_count": 8,
     "metadata": {},
     "output_type": "execute_result"
    }
   ],
   "source": [
    "weather"
   ]
  },
  {
   "cell_type": "markdown",
   "id": "0d80db7d",
   "metadata": {},
   "source": [
    "For large DataFrames, it's often useful to display just the first few or last few rows:"
   ]
  },
  {
   "cell_type": "code",
   "execution_count": 9,
   "id": "2c19ed98",
   "metadata": {},
   "outputs": [
    {
     "data": {
      "text/html": [
       "<div>\n",
       "<style scoped>\n",
       "    .dataframe tbody tr th:only-of-type {\n",
       "        vertical-align: middle;\n",
       "    }\n",
       "\n",
       "    .dataframe tbody tr th {\n",
       "        vertical-align: top;\n",
       "    }\n",
       "\n",
       "    .dataframe thead th {\n",
       "        text-align: right;\n",
       "    }\n",
       "</style>\n",
       "<table border=\"1\" class=\"dataframe\">\n",
       "  <thead>\n",
       "    <tr style=\"text-align: right;\">\n",
       "      <th></th>\n",
       "      <th>Date</th>\n",
       "      <th>Year</th>\n",
       "      <th>Month</th>\n",
       "      <th>Day</th>\n",
       "      <th>T_mean (C)</th>\n",
       "      <th>T_high (C)</th>\n",
       "      <th>T_low (C)</th>\n",
       "      <th>Rain (mm)</th>\n",
       "      <th>Snow (cm)</th>\n",
       "      <th>Total Precip (mm)</th>\n",
       "    </tr>\n",
       "  </thead>\n",
       "  <tbody>\n",
       "    <tr>\n",
       "      <th>0</th>\n",
       "      <td>1938-01-01</td>\n",
       "      <td>1938</td>\n",
       "      <td>1</td>\n",
       "      <td>1</td>\n",
       "      <td>4.4</td>\n",
       "      <td>9.4</td>\n",
       "      <td>-0.6</td>\n",
       "      <td>NaN</td>\n",
       "      <td>NaN</td>\n",
       "      <td>0.3</td>\n",
       "    </tr>\n",
       "    <tr>\n",
       "      <th>1</th>\n",
       "      <td>1938-01-02</td>\n",
       "      <td>1938</td>\n",
       "      <td>1</td>\n",
       "      <td>2</td>\n",
       "      <td>4.5</td>\n",
       "      <td>7.2</td>\n",
       "      <td>1.7</td>\n",
       "      <td>NaN</td>\n",
       "      <td>NaN</td>\n",
       "      <td>0.5</td>\n",
       "    </tr>\n",
       "    <tr>\n",
       "      <th>2</th>\n",
       "      <td>1938-01-03</td>\n",
       "      <td>1938</td>\n",
       "      <td>1</td>\n",
       "      <td>3</td>\n",
       "      <td>1.7</td>\n",
       "      <td>7.2</td>\n",
       "      <td>-3.9</td>\n",
       "      <td>0.0</td>\n",
       "      <td>0.0</td>\n",
       "      <td>0.0</td>\n",
       "    </tr>\n",
       "    <tr>\n",
       "      <th>3</th>\n",
       "      <td>1938-01-04</td>\n",
       "      <td>1938</td>\n",
       "      <td>1</td>\n",
       "      <td>4</td>\n",
       "      <td>2.2</td>\n",
       "      <td>7.2</td>\n",
       "      <td>-2.8</td>\n",
       "      <td>0.0</td>\n",
       "      <td>0.0</td>\n",
       "      <td>0.0</td>\n",
       "    </tr>\n",
       "    <tr>\n",
       "      <th>4</th>\n",
       "      <td>1938-01-05</td>\n",
       "      <td>1938</td>\n",
       "      <td>1</td>\n",
       "      <td>5</td>\n",
       "      <td>2.2</td>\n",
       "      <td>7.2</td>\n",
       "      <td>-2.8</td>\n",
       "      <td>0.0</td>\n",
       "      <td>0.0</td>\n",
       "      <td>0.0</td>\n",
       "    </tr>\n",
       "  </tbody>\n",
       "</table>\n",
       "</div>"
      ],
      "text/plain": [
       "         Date  Year  Month  Day  T_mean (C)  T_high (C)  T_low (C)  Rain (mm)  \\\n",
       "0  1938-01-01  1938      1    1         4.4         9.4       -0.6        NaN   \n",
       "1  1938-01-02  1938      1    2         4.5         7.2        1.7        NaN   \n",
       "2  1938-01-03  1938      1    3         1.7         7.2       -3.9        0.0   \n",
       "3  1938-01-04  1938      1    4         2.2         7.2       -2.8        0.0   \n",
       "4  1938-01-05  1938      1    5         2.2         7.2       -2.8        0.0   \n",
       "\n",
       "   Snow (cm)  Total Precip (mm)  \n",
       "0        NaN                0.3  \n",
       "1        NaN                0.5  \n",
       "2        0.0                0.0  \n",
       "3        0.0                0.0  \n",
       "4        0.0                0.0  "
      ]
     },
     "execution_count": 9,
     "metadata": {},
     "output_type": "execute_result"
    }
   ],
   "source": [
    "weather.head()"
   ]
  },
  {
   "cell_type": "markdown",
   "id": "bfa88147",
   "metadata": {
    "slideshow": {
     "slide_type": "fragment"
    }
   },
   "source": [
    "The `head` method returns a new DataFrame consisting of the first `n` rows (default 5)\n",
    "\n",
    "\n",
    "> Pro Tips!\n",
    "> - To display the documentation for this method, you can run the command `weather.head?` in your Jupyter notebook\n",
    "> - To see other methods available for the DataFrame, type `weather.` followed by Tab for auto-complete options"
   ]
  },
  {
   "cell_type": "markdown",
   "id": "99b435cb",
   "metadata": {},
   "source": [
    "First two rows:"
   ]
  },
  {
   "cell_type": "code",
   "execution_count": 10,
   "id": "ebc62be3",
   "metadata": {},
   "outputs": [
    {
     "data": {
      "text/html": [
       "<div>\n",
       "<style scoped>\n",
       "    .dataframe tbody tr th:only-of-type {\n",
       "        vertical-align: middle;\n",
       "    }\n",
       "\n",
       "    .dataframe tbody tr th {\n",
       "        vertical-align: top;\n",
       "    }\n",
       "\n",
       "    .dataframe thead th {\n",
       "        text-align: right;\n",
       "    }\n",
       "</style>\n",
       "<table border=\"1\" class=\"dataframe\">\n",
       "  <thead>\n",
       "    <tr style=\"text-align: right;\">\n",
       "      <th></th>\n",
       "      <th>Date</th>\n",
       "      <th>Year</th>\n",
       "      <th>Month</th>\n",
       "      <th>Day</th>\n",
       "      <th>T_mean (C)</th>\n",
       "      <th>T_high (C)</th>\n",
       "      <th>T_low (C)</th>\n",
       "      <th>Rain (mm)</th>\n",
       "      <th>Snow (cm)</th>\n",
       "      <th>Total Precip (mm)</th>\n",
       "    </tr>\n",
       "  </thead>\n",
       "  <tbody>\n",
       "    <tr>\n",
       "      <th>0</th>\n",
       "      <td>1938-01-01</td>\n",
       "      <td>1938</td>\n",
       "      <td>1</td>\n",
       "      <td>1</td>\n",
       "      <td>4.4</td>\n",
       "      <td>9.4</td>\n",
       "      <td>-0.6</td>\n",
       "      <td>NaN</td>\n",
       "      <td>NaN</td>\n",
       "      <td>0.3</td>\n",
       "    </tr>\n",
       "    <tr>\n",
       "      <th>1</th>\n",
       "      <td>1938-01-02</td>\n",
       "      <td>1938</td>\n",
       "      <td>1</td>\n",
       "      <td>2</td>\n",
       "      <td>4.5</td>\n",
       "      <td>7.2</td>\n",
       "      <td>1.7</td>\n",
       "      <td>NaN</td>\n",
       "      <td>NaN</td>\n",
       "      <td>0.5</td>\n",
       "    </tr>\n",
       "  </tbody>\n",
       "</table>\n",
       "</div>"
      ],
      "text/plain": [
       "         Date  Year  Month  Day  T_mean (C)  T_high (C)  T_low (C)  Rain (mm)  \\\n",
       "0  1938-01-01  1938      1    1         4.4         9.4       -0.6        NaN   \n",
       "1  1938-01-02  1938      1    2         4.5         7.2        1.7        NaN   \n",
       "\n",
       "   Snow (cm)  Total Precip (mm)  \n",
       "0        NaN                0.3  \n",
       "1        NaN                0.5  "
      ]
     },
     "execution_count": 10,
     "metadata": {},
     "output_type": "execute_result"
    }
   ],
   "source": [
    "weather.head(2)"
   ]
  },
  {
   "cell_type": "code",
   "execution_count": 11,
   "id": "d0041c29",
   "metadata": {},
   "outputs": [],
   "source": [
    "# Last four rows:"
   ]
  },
  {
   "cell_type": "code",
   "execution_count": 12,
   "id": "b6d27d9f",
   "metadata": {},
   "outputs": [
    {
     "data": {
      "text/html": [
       "<div>\n",
       "<style scoped>\n",
       "    .dataframe tbody tr th:only-of-type {\n",
       "        vertical-align: middle;\n",
       "    }\n",
       "\n",
       "    .dataframe tbody tr th {\n",
       "        vertical-align: top;\n",
       "    }\n",
       "\n",
       "    .dataframe thead th {\n",
       "        text-align: right;\n",
       "    }\n",
       "</style>\n",
       "<table border=\"1\" class=\"dataframe\">\n",
       "  <thead>\n",
       "    <tr style=\"text-align: right;\">\n",
       "      <th></th>\n",
       "      <th>Date</th>\n",
       "      <th>Year</th>\n",
       "      <th>Month</th>\n",
       "      <th>Day</th>\n",
       "      <th>T_mean (C)</th>\n",
       "      <th>T_high (C)</th>\n",
       "      <th>T_low (C)</th>\n",
       "      <th>Rain (mm)</th>\n",
       "      <th>Snow (cm)</th>\n",
       "      <th>Total Precip (mm)</th>\n",
       "    </tr>\n",
       "  </thead>\n",
       "  <tbody>\n",
       "    <tr>\n",
       "      <th>29186</th>\n",
       "      <td>2017-12-28</td>\n",
       "      <td>2017</td>\n",
       "      <td>12</td>\n",
       "      <td>28</td>\n",
       "      <td>3.4</td>\n",
       "      <td>5.7</td>\n",
       "      <td>1.1</td>\n",
       "      <td>20.8</td>\n",
       "      <td>0.0</td>\n",
       "      <td>20.8</td>\n",
       "    </tr>\n",
       "    <tr>\n",
       "      <th>29187</th>\n",
       "      <td>2017-12-29</td>\n",
       "      <td>2017</td>\n",
       "      <td>12</td>\n",
       "      <td>29</td>\n",
       "      <td>2.8</td>\n",
       "      <td>4.7</td>\n",
       "      <td>0.9</td>\n",
       "      <td>27.6</td>\n",
       "      <td>0.0</td>\n",
       "      <td>27.6</td>\n",
       "    </tr>\n",
       "    <tr>\n",
       "      <th>29188</th>\n",
       "      <td>2017-12-30</td>\n",
       "      <td>2017</td>\n",
       "      <td>12</td>\n",
       "      <td>30</td>\n",
       "      <td>1.3</td>\n",
       "      <td>4.3</td>\n",
       "      <td>-1.8</td>\n",
       "      <td>2.2</td>\n",
       "      <td>0.0</td>\n",
       "      <td>2.2</td>\n",
       "    </tr>\n",
       "    <tr>\n",
       "      <th>29189</th>\n",
       "      <td>2017-12-31</td>\n",
       "      <td>2017</td>\n",
       "      <td>12</td>\n",
       "      <td>31</td>\n",
       "      <td>-0.1</td>\n",
       "      <td>3.8</td>\n",
       "      <td>-3.9</td>\n",
       "      <td>0.0</td>\n",
       "      <td>0.0</td>\n",
       "      <td>0.0</td>\n",
       "    </tr>\n",
       "  </tbody>\n",
       "</table>\n",
       "</div>"
      ],
      "text/plain": [
       "             Date  Year  Month  Day  T_mean (C)  T_high (C)  T_low (C)  \\\n",
       "29186  2017-12-28  2017     12   28         3.4         5.7        1.1   \n",
       "29187  2017-12-29  2017     12   29         2.8         4.7        0.9   \n",
       "29188  2017-12-30  2017     12   30         1.3         4.3       -1.8   \n",
       "29189  2017-12-31  2017     12   31        -0.1         3.8       -3.9   \n",
       "\n",
       "       Rain (mm)  Snow (cm)  Total Precip (mm)  \n",
       "29186       20.8        0.0               20.8  \n",
       "29187       27.6        0.0               27.6  \n",
       "29188        2.2        0.0                2.2  \n",
       "29189        0.0        0.0                0.0  "
      ]
     },
     "execution_count": 12,
     "metadata": {},
     "output_type": "execute_result"
    }
   ],
   "source": [
    "weather.tail(4)"
   ]
  },
  {
   "cell_type": "markdown",
   "id": "99f7ea78",
   "metadata": {},
   "source": [
    "## Data at a Glance\n",
    "\n",
    "`pandas` provides many ways to quickly and easily summarize your data:\n",
    " - How many rows and columns are there?\n",
    " - What are all the column names and what type of data is in each column?"
   ]
  },
  {
   "cell_type": "markdown",
   "id": "10f523cf",
   "metadata": {},
   "source": [
    "- Numerical data: What is the average and range of the values?\n",
    "- Text data: What are the unique values and how often does each occur?\n",
    "- How many values are missing in each column or row?"
   ]
  },
  {
   "cell_type": "markdown",
   "id": "f069fd07",
   "metadata": {},
   "source": [
    "### Number of rows and columns:"
   ]
  },
  {
   "cell_type": "code",
   "execution_count": 13,
   "id": "57bef23f",
   "metadata": {},
   "outputs": [
    {
     "data": {
      "text/plain": [
       "(29190, 10)"
      ]
     },
     "execution_count": 13,
     "metadata": {},
     "output_type": "execute_result"
    }
   ],
   "source": [
    "weather.shape"
   ]
  },
  {
   "cell_type": "code",
   "execution_count": 14,
   "id": "c7bb2bba",
   "metadata": {},
   "outputs": [],
   "source": [
    "# - The DataFrame `weather` has 29190 rows and 10 columns\n",
    "# - The index does not count as a column\n",
    "# - Notice there are no parentheses at the end of `weather.shape`\n",
    "# - `shape` is a **data attribute** of the variable `weather`"
   ]
  },
  {
   "cell_type": "code",
   "execution_count": 15,
   "id": "41872edf",
   "metadata": {},
   "outputs": [
    {
     "data": {
      "text/plain": [
       "tuple"
      ]
     },
     "execution_count": 15,
     "metadata": {},
     "output_type": "execute_result"
    }
   ],
   "source": [
    "type(weather.shape)"
   ]
  },
  {
   "cell_type": "code",
   "execution_count": 16,
   "id": "a0ec2142",
   "metadata": {},
   "outputs": [],
   "source": [
    "# The data in the `shape` attribute is stored as a **tuple**, which is similar to a list.\n",
    "#\n",
    "# - Items in a tuple are enclosed in `()` instead of `[]`\n",
    "# - Tuples are immutable - you can't modify individual items inside a tuple"
   ]
  },
  {
   "cell_type": "markdown",
   "id": "8414d2fe",
   "metadata": {
    "slideshow": {
     "slide_type": "slide"
    }
   },
   "source": [
    "- Within a column of a DataFrame, the data must all be of the same type\n",
    "- We can find out the names and data types of each column from the `dtypes` attribute:"
   ]
  },
  {
   "cell_type": "code",
   "execution_count": 17,
   "id": "eb4b11fe",
   "metadata": {},
   "outputs": [
    {
     "data": {
      "text/plain": [
       "Date                  object\n",
       "Year                   int64\n",
       "Month                  int64\n",
       "Day                    int64\n",
       "T_mean (C)           float64\n",
       "T_high (C)           float64\n",
       "T_low (C)            float64\n",
       "Rain (mm)            float64\n",
       "Snow (cm)            float64\n",
       "Total Precip (mm)    float64\n",
       "dtype: object"
      ]
     },
     "execution_count": 17,
     "metadata": {},
     "output_type": "execute_result"
    }
   ],
   "source": [
    "weather.dtypes"
   ]
  },
  {
   "cell_type": "markdown",
   "id": "85c53211",
   "metadata": {},
   "source": [
    "In a `pandas` DataFrame, a column containing text data (or containing a mix of text and numbers) is assigned a `dtype` of `object` and is treated as a column of strings.\n",
    "\n",
    "`int64` and `float64` are integer and float, respectively.\n",
    "- The 64 at the end means that they are stored as 64-bit numbers in memory\n",
    "- These data types are equivalent to `int` and `float` in Python (`pandas` is a just a bit more explicit in how it names them)"
   ]
  },
  {
   "cell_type": "markdown",
   "id": "fc04779b",
   "metadata": {},
   "source": [
    "If we just want a list of the column names, we can use the `columns` attribute:"
   ]
  },
  {
   "cell_type": "code",
   "execution_count": 18,
   "id": "4ac49c54",
   "metadata": {
    "scrolled": true,
    "slideshow": {
     "slide_type": "-"
    }
   },
   "outputs": [
    {
     "data": {
      "text/plain": [
       "Index(['Date', 'Year', 'Month', 'Day', 'T_mean (C)', 'T_high (C)', 'T_low (C)',\n",
       "       'Rain (mm)', 'Snow (cm)', 'Total Precip (mm)'],\n",
       "      dtype='object')"
      ]
     },
     "execution_count": 18,
     "metadata": {},
     "output_type": "execute_result"
    }
   ],
   "source": [
    "weather.columns"
   ]
  },
  {
   "cell_type": "markdown",
   "id": "67b8c3a5",
   "metadata": {},
   "source": [
    "### Simple Summary Statistics\n",
    "\n",
    "The `describe` method computes simple summary statistics and returns them as a DataFrame:"
   ]
  },
  {
   "cell_type": "code",
   "execution_count": 19,
   "id": "33226499",
   "metadata": {},
   "outputs": [
    {
     "data": {
      "text/html": [
       "<div>\n",
       "<style scoped>\n",
       "    .dataframe tbody tr th:only-of-type {\n",
       "        vertical-align: middle;\n",
       "    }\n",
       "\n",
       "    .dataframe tbody tr th {\n",
       "        vertical-align: top;\n",
       "    }\n",
       "\n",
       "    .dataframe thead th {\n",
       "        text-align: right;\n",
       "    }\n",
       "</style>\n",
       "<table border=\"1\" class=\"dataframe\">\n",
       "  <thead>\n",
       "    <tr style=\"text-align: right;\">\n",
       "      <th></th>\n",
       "      <th>Year</th>\n",
       "      <th>Month</th>\n",
       "      <th>Day</th>\n",
       "      <th>T_mean (C)</th>\n",
       "      <th>T_high (C)</th>\n",
       "      <th>T_low (C)</th>\n",
       "      <th>Rain (mm)</th>\n",
       "      <th>Snow (cm)</th>\n",
       "      <th>Total Precip (mm)</th>\n",
       "    </tr>\n",
       "  </thead>\n",
       "  <tbody>\n",
       "    <tr>\n",
       "      <th>count</th>\n",
       "      <td>29190.000000</td>\n",
       "      <td>29190.000000</td>\n",
       "      <td>29190.000000</td>\n",
       "      <td>29167.000000</td>\n",
       "      <td>29169.000000</td>\n",
       "      <td>29180.000000</td>\n",
       "      <td>29126.000000</td>\n",
       "      <td>29138.000000</td>\n",
       "      <td>29166.000000</td>\n",
       "    </tr>\n",
       "    <tr>\n",
       "      <th>mean</th>\n",
       "      <td>1977.479753</td>\n",
       "      <td>6.522336</td>\n",
       "      <td>15.729222</td>\n",
       "      <td>10.133692</td>\n",
       "      <td>13.780767</td>\n",
       "      <td>6.440062</td>\n",
       "      <td>2.985731</td>\n",
       "      <td>0.121779</td>\n",
       "      <td>3.107351</td>\n",
       "    </tr>\n",
       "    <tr>\n",
       "      <th>std</th>\n",
       "      <td>23.093891</td>\n",
       "      <td>3.448584</td>\n",
       "      <td>8.801167</td>\n",
       "      <td>5.803549</td>\n",
       "      <td>6.408815</td>\n",
       "      <td>5.514129</td>\n",
       "      <td>6.231114</td>\n",
       "      <td>1.146298</td>\n",
       "      <td>6.325946</td>\n",
       "    </tr>\n",
       "    <tr>\n",
       "      <th>min</th>\n",
       "      <td>1938.000000</td>\n",
       "      <td>1.000000</td>\n",
       "      <td>1.000000</td>\n",
       "      <td>-14.500000</td>\n",
       "      <td>-11.100000</td>\n",
       "      <td>-17.800000</td>\n",
       "      <td>0.000000</td>\n",
       "      <td>0.000000</td>\n",
       "      <td>0.000000</td>\n",
       "    </tr>\n",
       "    <tr>\n",
       "      <th>25%</th>\n",
       "      <td>1957.000000</td>\n",
       "      <td>4.000000</td>\n",
       "      <td>8.000000</td>\n",
       "      <td>5.900000</td>\n",
       "      <td>8.900000</td>\n",
       "      <td>2.600000</td>\n",
       "      <td>0.000000</td>\n",
       "      <td>0.000000</td>\n",
       "      <td>0.000000</td>\n",
       "    </tr>\n",
       "    <tr>\n",
       "      <th>50%</th>\n",
       "      <td>1977.000000</td>\n",
       "      <td>7.000000</td>\n",
       "      <td>16.000000</td>\n",
       "      <td>10.000000</td>\n",
       "      <td>13.300000</td>\n",
       "      <td>6.700000</td>\n",
       "      <td>0.000000</td>\n",
       "      <td>0.000000</td>\n",
       "      <td>0.000000</td>\n",
       "    </tr>\n",
       "    <tr>\n",
       "      <th>75%</th>\n",
       "      <td>1997.750000</td>\n",
       "      <td>10.000000</td>\n",
       "      <td>23.000000</td>\n",
       "      <td>15.000000</td>\n",
       "      <td>18.900000</td>\n",
       "      <td>11.100000</td>\n",
       "      <td>3.200000</td>\n",
       "      <td>0.000000</td>\n",
       "      <td>3.400000</td>\n",
       "    </tr>\n",
       "    <tr>\n",
       "      <th>max</th>\n",
       "      <td>2017.000000</td>\n",
       "      <td>12.000000</td>\n",
       "      <td>31.000000</td>\n",
       "      <td>28.400000</td>\n",
       "      <td>34.400000</td>\n",
       "      <td>22.400000</td>\n",
       "      <td>91.600000</td>\n",
       "      <td>41.000000</td>\n",
       "      <td>91.600000</td>\n",
       "    </tr>\n",
       "  </tbody>\n",
       "</table>\n",
       "</div>"
      ],
      "text/plain": [
       "               Year         Month           Day    T_mean (C)    T_high (C)  \\\n",
       "count  29190.000000  29190.000000  29190.000000  29167.000000  29169.000000   \n",
       "mean    1977.479753      6.522336     15.729222     10.133692     13.780767   \n",
       "std       23.093891      3.448584      8.801167      5.803549      6.408815   \n",
       "min     1938.000000      1.000000      1.000000    -14.500000    -11.100000   \n",
       "25%     1957.000000      4.000000      8.000000      5.900000      8.900000   \n",
       "50%     1977.000000      7.000000     16.000000     10.000000     13.300000   \n",
       "75%     1997.750000     10.000000     23.000000     15.000000     18.900000   \n",
       "max     2017.000000     12.000000     31.000000     28.400000     34.400000   \n",
       "\n",
       "          T_low (C)     Rain (mm)     Snow (cm)  Total Precip (mm)  \n",
       "count  29180.000000  29126.000000  29138.000000       29166.000000  \n",
       "mean       6.440062      2.985731      0.121779           3.107351  \n",
       "std        5.514129      6.231114      1.146298           6.325946  \n",
       "min      -17.800000      0.000000      0.000000           0.000000  \n",
       "25%        2.600000      0.000000      0.000000           0.000000  \n",
       "50%        6.700000      0.000000      0.000000           0.000000  \n",
       "75%       11.100000      3.200000      0.000000           3.400000  \n",
       "max       22.400000     91.600000     41.000000          91.600000  "
      ]
     },
     "execution_count": 19,
     "metadata": {},
     "output_type": "execute_result"
    }
   ],
   "source": [
    "weather.describe()"
   ]
  },
  {
   "cell_type": "markdown",
   "id": "1077d652",
   "metadata": {},
   "source": [
    "The `describe` method is a way to quickly summarize the averages, extremes, and variability of each numerical data column."
   ]
  },
  {
   "cell_type": "markdown",
   "id": "20141be5",
   "metadata": {},
   "source": [
    "You can look at each statistic individually with methods such as `mean`, `median`, `min`, `max`,`std`, and `count`"
   ]
  },
  {
   "cell_type": "code",
   "execution_count": 20,
   "id": "9d22683c",
   "metadata": {},
   "outputs": [
    {
     "name": "stderr",
     "output_type": "stream",
     "text": [
      "/var/folders/_k/0f_hlw7x2hq4vtcq0h8bvsm40000gr/T/ipykernel_64779/718641550.py:1: FutureWarning: Dropping of nuisance columns in DataFrame reductions (with 'numeric_only=None') is deprecated; in a future version this will raise TypeError.  Select only valid columns before calling the reduction.\n",
      "  weather.mean()\n"
     ]
    },
    {
     "data": {
      "text/plain": [
       "Year                 1977.479753\n",
       "Month                   6.522336\n",
       "Day                    15.729222\n",
       "T_mean (C)             10.133692\n",
       "T_high (C)             13.780767\n",
       "T_low (C)               6.440062\n",
       "Rain (mm)               2.985731\n",
       "Snow (cm)               0.121779\n",
       "Total Precip (mm)       3.107351\n",
       "dtype: float64"
      ]
     },
     "execution_count": 20,
     "metadata": {},
     "output_type": "execute_result"
    }
   ],
   "source": [
    "weather.mean()"
   ]
  },
  {
   "cell_type": "markdown",
   "id": "744cb96b",
   "metadata": {},
   "source": [
    "## Exercise\n",
    "\n",
    "For this exercise, we will explore data about countries around the world, combined from multiple sources by the [Gapminder foundation](https://www.gapminder.org/about-gapminder/)."
   ]
  },
  {
   "cell_type": "markdown",
   "id": "d2696bd1",
   "metadata": {},
   "source": [
    "Gapminder is an independent Swedish foundation that fights devastating misconceptions about global development and promotes a fact-based world view through the production of free teaching and data exploration resources."
   ]
  },
  {
   "cell_type": "markdown",
   "id": "0001da78",
   "metadata": {},
   "source": [
    "### Data Overview\n",
    "\n",
    "The columns of `data/gapminder_world_data_2018.csv` are:\n",
    "\n",
    "| Column                | Description                        |\n",
    "|-----------------------|------------------------------------|\n",
    "| country               | Country name                       |\n",
    "| population            | Population in the country |\n",
    "| region                | Continent the country belongs to   |\n",
    "| sub_region            | Sub regions as defined by          |\n",
    "| income_group          | Income group [as specified by the world bank](https://datahelpdesk.worldbank.org/knowledgebase/articles/378833-how-are-the-income-group-thresholds-determined)                  |\n",
    "| life_expectancy       | The average number of years a newborn child would <br>live if mortality patterns were to stay the same |\n",
    "| gdp_per_capita         | GDP per capita (in USD) adjusted <br>for differences in purchasing power|\n",
    "| children_per_woman    | Number of children born to each woman|\n",
    "| child_mortality       | Deaths of children under 5 years <br>of age per 1000 live births|\n",
    "| pop_density           | Average number of people per km$^2$|"
   ]
  },
  {
   "cell_type": "markdown",
   "id": "8011d2b9",
   "metadata": {},
   "source": [
    "> You may want to refer to the [Pandas cheatsheet](pandas-cheatsheet.ipynb) as you work through the exercises.\n",
    "\n",
    "**a)** Read the file `data/gapminder_world_data_2018.csv` into a new DataFrame `world` and display the first 10 rows."
   ]
  },
  {
   "cell_type": "markdown",
   "id": "7b637fc7",
   "metadata": {},
   "source": [
    "**b)** How many rows and columns does `world` have?"
   ]
  },
  {
   "cell_type": "markdown",
   "id": "b1ac5905",
   "metadata": {},
   "source": [
    "**c)** Display the names and data types of each column."
   ]
  },
  {
   "cell_type": "markdown",
   "id": "03ec7b54",
   "metadata": {},
   "source": [
    "**d)** Display summary statistics with the `describe` method. What are the lowest and highest populations? How about lowest/highest population densities? Any guesses which countries these might be? (We'll find out the answers in Lesson 4!)"
   ]
  },
  {
   "cell_type": "markdown",
   "id": "9bc00741",
   "metadata": {},
   "source": [
    "### Bonus exercises\n",
    "\n",
    "**e) Data wrangling - dealing with header rows**\n",
    "\n",
    "The file `data/raw/weather_YVR_1938.csv` contains the daily weather data for 1938, in the original format downloaded from Environment Canada. Open this file in the JupyterLab CSV viewer to see what it looks like.\n",
    "\n",
    "> Note that the CSV viewer isn't able to parse the data correctly because of the extra header rows at the beginning.\n",
    "\n",
    "- Now try reading the file into your notebook with `pandas.read_csv` and see what happens.\n",
    "\n",
    "If you look at the documentation for `pandas.read_csv`, you'll see a `skiprows` input buried amongst a few dozen other inputs for this function. This input tells `read_csv` how many rows to skip at the beginning of the file.\n",
    "- Try reading `data/raw/weather_YVR_1938.csv` again, but this time using a value of `24` for the `skiprows` keyword argument, and display the first 5 rows of the resulting DataFrame."
   ]
  },
  {
   "cell_type": "markdown",
   "id": "03ef6c3d",
   "metadata": {},
   "source": [
    "**f) Importing a library from a `.py` file**\n",
    "\n",
    "In the pandas folder, you'll see a file called `ecweather.py`. It is a Python *module*, which is a library contained in a single `.py` file (as opposed to a package, which is multiple `.py` files bundled together).\n",
    "\n",
    "You can import a library from a local `.py` file with the same syntax as any other library. The library name is just the file name minus the `.py` extension, so to import this library the syntax is:\n",
    "```python\n",
    "import ecweather\n",
    "```\n",
    "\n",
    "- Import `ecweather` into your notebook, and call the function `ecweather.welcome()` to test it. If everything worked ok, it should print a welcome message."
   ]
  }
 ],
 "metadata": {
  "jupytext": {
   "cell_metadata_filter": "all",
   "notebook_metadata_filter": "all",
   "text_representation": {
    "extension": ".md",
    "format_name": "myst",
    "format_version": 0.13,
    "jupytext_version": "1.11.5"
   }
  },
  "kernelspec": {
   "display_name": "Python 3 (ipykernel)",
   "language": "python",
   "name": "python3"
  },
  "language_info": {
   "codemirror_mode": {
    "name": "ipython",
    "version": 3
   },
   "file_extension": ".py",
   "mimetype": "text/x-python",
   "name": "python",
   "nbconvert_exporter": "python",
   "pygments_lexer": "ipython3",
   "version": "3.8.12"
  },
  "latex_envs": {
   "LaTeX_envs_menu_present": true,
   "autoclose": false,
   "autocomplete": true,
   "bibliofile": "biblio.bib",
   "cite_by": "apalike",
   "current_citInitial": 1,
   "eqLabelWithNumbers": true,
   "eqNumInitial": 1,
   "hotkeys": {
    "equation": "meta-9"
   },
   "labels_anchors": false,
   "latex_user_defs": false,
   "report_style_numbering": false,
   "user_envs_cfg": false
  },
  "nbsphinx": {
   "execute": "never"
  },
  "toc": {
   "base_numbering": 1,
   "nav_menu": {},
   "number_sections": true,
   "sideBar": true,
   "skip_h1_title": true,
   "title_cell": "Table of Contents",
   "title_sidebar": "Contents",
   "toc_cell": true,
   "toc_position": {},
   "toc_section_display": true,
   "toc_window_display": true
  }
 },
 "nbformat": 4,
 "nbformat_minor": 5
}
